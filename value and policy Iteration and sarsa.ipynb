{
 "cells": [
  {
   "cell_type": "markdown",
   "metadata": {},
   "source": [
    "### Frozen Lake 8*8"
   ]
  },
  {
   "cell_type": "markdown",
   "metadata": {},
   "source": [
    "Winter is here. You and your friends were tossing around a frisbee at the park when you made a wild throw that left the frisbee out in the middle of the lake. The water is mostly frozen, but there are a few holes where the ice has melted. If you step into one of those holes, you'll fall into the freezing water. At this time, there's an international frisbee shortage, so it's absolutely imperative that you navigate across the lake and retrieve the disc. However, the ice is slippery, so you won't always move in the direction you intend.\n",
    "\n",
    "The surface is described using a grid like the following:\n",
    "\n",
    "SFFF       (S: starting point, safe)\n",
    "\n",
    "FHFH       (F: frozen surface, safe)\n",
    "\n",
    "FFFH       (H: hole, fall to your doom)\n",
    "\n",
    "HFFG       (G: goal, where the frisbee is located)\n",
    "\n",
    "\n",
    "The episode ends when you reach the goal or fall in a hole. You receive a reward of 100 if you reach the goal, -100 if you fall into the hole, and -0.1 for each step you take."
   ]
  },
  {
   "cell_type": "markdown",
   "metadata": {},
   "source": [
    "### Getting Started"
   ]
  },
  {
   "cell_type": "markdown",
   "metadata": {},
   "source": [
    "Run the following code and observe the result."
   ]
  },
  {
   "cell_type": "code",
   "execution_count": 2,
   "metadata": {},
   "outputs": [
    {
     "name": "stdout",
     "output_type": "stream",
     "text": [
      "\n",
      "\u001b[41mS\u001b[0mFFFFFFF\n",
      "FFFFFFFF\n",
      "FFFHFFFF\n",
      "FFFFFHFF\n",
      "FFFHFFFF\n",
      "FFHFFFHF\n",
      "FHFFHFHF\n",
      "FFFHFFFG\n",
      "  (Down)\n",
      "SFFFFFFF\n",
      "\u001b[41mF\u001b[0mFFFFFFF\n",
      "FFFHFFFF\n",
      "FFFFFHFF\n",
      "FFFHFFFF\n",
      "FFHFFFHF\n",
      "FHFFHFHF\n",
      "FFFHFFFG\n",
      "  (Down)\n",
      "SFFFFFFF\n",
      "FFFFFFFF\n",
      "\u001b[41mF\u001b[0mFFHFFFF\n",
      "FFFFFHFF\n",
      "FFFHFFFF\n",
      "FFHFFFHF\n",
      "FHFFHFHF\n",
      "FFFHFFFG\n",
      "  (Up)\n",
      "SFFFFFFF\n",
      "\u001b[41mF\u001b[0mFFFFFFF\n",
      "FFFHFFFF\n",
      "FFFFFHFF\n",
      "FFFHFFFF\n",
      "FFHFFFHF\n",
      "FHFFHFHF\n",
      "FFFHFFFG\n",
      "  (Right)\n",
      "SFFFFFFF\n",
      "F\u001b[41mF\u001b[0mFFFFFF\n",
      "FFFHFFFF\n",
      "FFFFFHFF\n",
      "FFFHFFFF\n",
      "FFHFFFHF\n",
      "FHFFHFHF\n",
      "FFFHFFFG\n",
      "  (Left)\n",
      "SFFFFFFF\n",
      "\u001b[41mF\u001b[0mFFFFFFF\n",
      "FFFHFFFF\n",
      "FFFFFHFF\n",
      "FFFHFFFF\n",
      "FFHFFFHF\n",
      "FHFFHFHF\n",
      "FFFHFFFG\n",
      "  (Down)\n",
      "SFFFFFFF\n",
      "FFFFFFFF\n",
      "\u001b[41mF\u001b[0mFFHFFFF\n",
      "FFFFFHFF\n",
      "FFFHFFFF\n",
      "FFHFFFHF\n",
      "FHFFHFHF\n",
      "FFFHFFFG\n",
      "  (Right)\n",
      "SFFFFFFF\n",
      "FFFFFFFF\n",
      "F\u001b[41mF\u001b[0mFHFFFF\n",
      "FFFFFHFF\n",
      "FFFHFFFF\n",
      "FFHFFFHF\n",
      "FHFFHFHF\n",
      "FFFHFFFG\n",
      "  (Right)\n",
      "SFFFFFFF\n",
      "FFFFFFFF\n",
      "FF\u001b[41mF\u001b[0mHFFFF\n",
      "FFFFFHFF\n",
      "FFFHFFFF\n",
      "FFHFFFHF\n",
      "FHFFHFHF\n",
      "FFFHFFFG\n",
      "  (Right)\n",
      "SFFFFFFF\n",
      "FFFFFFFF\n",
      "FFF\u001b[41mH\u001b[0mFFFF\n",
      "FFFFFHFF\n",
      "FFFHFFFF\n",
      "FFHFFFHF\n",
      "FHFFHFHF\n",
      "FFFHFFFG\n"
     ]
    }
   ],
   "source": [
    "%run FrozenLake.ipynb\n",
    "\n",
    "env = FrozenLakeEnv()\n",
    "env.reset()\n",
    "\n",
    "for _ in range(10):\n",
    "    env.render()\n",
    "    state, reward, done, info = env.step(env.action_space.sample()) # Take a random action\n",
    "    \n",
    "env.close()"
   ]
  },
  {
   "cell_type": "markdown",
   "metadata": {},
   "source": [
    "What are the action space and the state space?"
   ]
  },
  {
   "cell_type": "code",
   "execution_count": 3,
   "metadata": {},
   "outputs": [
    {
     "name": "stdout",
     "output_type": "stream",
     "text": [
      "Discrete(4)\n",
      "Discrete(64)\n"
     ]
    }
   ],
   "source": [
    "print(env.action_space)\n",
    "print(env.observation_space)"
   ]
  },
  {
   "cell_type": "markdown",
   "metadata": {},
   "source": [
    "What does the following code indicate?\n",
    "\n",
    "اینکه اگر در استیت 53 باشیم و اکشن 2 را انجام دهیم با چه احتمالی به چه استیتی می رویم و چه ریواردی می گیریمو اینکه آیا استیت هدف است یا نه."
   ]
  },
  {
   "cell_type": "code",
   "execution_count": 4,
   "metadata": {},
   "outputs": [
    {
     "name": "stdout",
     "output_type": "stream",
     "text": [
      "[(0.15, 61, -0.1, False), (0.7, 54, -100.1, True), (0.15, 45, -0.1, False)]\n"
     ]
    }
   ],
   "source": [
    "print(env.P[53][2])"
   ]
  },
  {
   "cell_type": "markdown",
   "metadata": {},
   "source": [
    "### Value Iteration"
   ]
  },
  {
   "cell_type": "markdown",
   "metadata": {},
   "source": [
    "Find the best policy using the Value Iteration algorithm."
   ]
  },
  {
   "cell_type": "code",
   "execution_count": 20,
   "metadata": {},
   "outputs": [
    {
     "name": "stdout",
     "output_type": "stream",
     "text": [
      "values : [2.48863927e+177 2.48863927e+177 2.48863927e+177 2.48863927e+177\n",
      " 2.48863927e+177 2.48863927e+177 2.48863927e+177 2.48863927e+177\n",
      " 2.48863927e+177 2.48863927e+177 2.48863927e+177 2.48863927e+177\n",
      " 2.48863927e+177 2.48863927e+177 2.48863927e+177 2.48863927e+177\n",
      " 2.48833771e+177 2.48693213e+177 2.47652942e+177 0.00000000e+000\n",
      " 2.39475039e+177 2.47422272e+177 2.48641799e+177 2.48824728e+177\n",
      " 2.48767725e+177 2.47867520e+177 2.41588850e+177 1.69111629e+177\n",
      " 1.92999174e+177 0.00000000e+000 2.47125870e+177 2.48524930e+177\n",
      " 2.48707139e+177 2.42846390e+177 2.06229626e+177 0.00000000e+000\n",
      " 1.92114208e+177 1.93760941e+177 2.39081001e+177 2.46858353e+177\n",
      " 2.48656867e+177 2.10485016e+177 0.00000000e+000 1.51070749e+177\n",
      " 1.83544727e+177 1.76028351e+177 0.00000000e+000 2.09829597e+177\n",
      " 2.48620933e+177 0.00000000e+000 1.82770616e+177 1.50598363e+177\n",
      " 0.00000000e+000 1.23219797e+177 0.00000000e+000 1.72800844e+177\n",
      " 2.48602217e+177 2.38707758e+177 2.28833095e+177 0.00000000e+000\n",
      " 9.43400468e+176 1.14555826e+177 9.43400468e+176 0.00000000e+000]\n",
      "Qsa: [[2.48863927e+177 2.48863927e+177 2.48863927e+177 2.48863927e+177]\n",
      " [2.48863927e+177 2.48863927e+177 2.48863927e+177 2.48863927e+177]\n",
      " [2.48863927e+177 2.48863927e+177 2.48863927e+177 2.48863927e+177]\n",
      " [2.48863927e+177 2.48863927e+177 2.48863927e+177 2.48863927e+177]\n",
      " [2.48863927e+177 2.48863927e+177 2.48863927e+177 2.48863927e+177]\n",
      " [2.48863927e+177 2.48863927e+177 2.48863927e+177 2.48863927e+177]\n",
      " [2.48863927e+177 2.48863927e+177 2.48863927e+177 2.48863927e+177]\n",
      " [2.48863927e+177 2.48863927e+177 2.48863927e+177 2.48863927e+177]\n",
      " [2.48859400e+177 2.48842800e+177 2.48859400e+177 2.48863927e+177]\n",
      " [2.48838298e+177 2.48744325e+177 2.48838298e+177 2.48863927e+177]\n",
      " [2.48682246e+177 2.48016080e+177 2.48682246e+177 2.48863927e+177]\n",
      " [2.11534338e+177 7.46591782e+176 2.11534338e+177 2.48863927e+177]\n",
      " [2.47455592e+177 2.42291694e+177 2.47455592e+177 2.48863927e+177]\n",
      " [2.48647679e+177 2.47854767e+177 2.48647679e+177 2.48863927e+177]\n",
      " [2.48830608e+177 2.48708437e+177 2.48830608e+177 2.48863927e+177]\n",
      " [2.48858048e+177 2.48836488e+177 2.48858048e+177 2.48863927e+177]\n",
      " [2.48828245e+177 2.48765849e+177 2.48729770e+177 2.48833771e+177]\n",
      " [2.48693213e+177 2.47979646e+177 2.47866493e+177 2.48677718e+177]\n",
      " [2.47652942e+177 2.06415589e+177 7.35677953e+176 2.11508709e+177]\n",
      " [0.00000000e+000 0.00000000e+000 0.00000000e+000 0.00000000e+000]\n",
      " [6.62794504e+176 1.72212693e+177 2.39475039e+177 2.11318090e+177]\n",
      " [2.04962105e+177 7.32175231e+176 2.11378848e+177 2.47422272e+177]\n",
      " [2.47594058e+177 2.47425158e+177 2.48575779e+177 2.48641799e+177]\n",
      " [2.48657587e+177 2.48587430e+177 2.48785638e+177 2.48824728e+177]\n",
      " [2.48767725e+177 2.48588938e+177 2.48137575e+177 2.48678658e+177]\n",
      " [2.47867520e+177 2.43544660e+177 2.42842322e+177 2.47638388e+177]\n",
      " [2.41588850e+177 2.06906566e+177 1.86459912e+177 2.35903562e+177]\n",
      " [1.69111629e+177 6.51880675e+176 1.35099353e+177 6.51880675e+176]\n",
      " [1.83116118e+177 1.59846578e+177 6.47383791e+176 1.92999174e+177]\n",
      " [0.00000000e+000 0.00000000e+000 0.00000000e+000 0.00000000e+000]\n",
      " [7.31584196e+176 2.04635439e+177 2.47125870e+177 2.11327998e+177]\n",
      " [2.47340571e+177 2.47148467e+177 2.48319913e+177 2.48524930e+177]\n",
      " [2.48707139e+177 2.47790852e+177 2.44604657e+177 2.47869396e+177]\n",
      " [2.42846390e+177 2.15578373e+177 2.13112394e+177 2.41746779e+177]\n",
      " [2.06229626e+177 3.64267328e+176 3.62382062e+176 2.05538362e+177]\n",
      " [0.00000000e+000 0.00000000e+000 0.00000000e+000 0.00000000e+000]\n",
      " [5.64815576e+176 1.57545389e+177 1.92114208e+177 1.64163492e+177]\n",
      " [1.60884162e+177 1.87899073e+177 1.93760941e+177 6.46792755e+176]\n",
      " [1.72701531e+177 6.60928923e+176 2.09869727e+177 2.39081001e+177]\n",
      " [2.36109878e+177 2.19771620e+177 2.41554026e+177 2.46858353e+177]\n",
      " [2.48656867e+177 2.42903513e+177 2.21936855e+177 2.42964592e+177]\n",
      " [2.10485016e+177 3.72982034e+176 3.64267328e+176 2.07289623e+177]\n",
      " [0.00000000e+000 0.00000000e+000 0.00000000e+000 0.00000000e+000]\n",
      " [2.25894992e+176 1.32949359e+177 1.51070749e+177 2.75316963e+176]\n",
      " [1.34566427e+177 4.90648068e+176 1.52036923e+177 1.83544727e+177]\n",
      " [1.76028351e+177 1.13785520e+177 4.75471016e+176 1.63164347e+177]\n",
      " [0.00000000e+000 0.00000000e+000 0.00000000e+000 0.00000000e+000]\n",
      " [6.29488795e+176 1.52435030e+177 2.09829597e+177 2.04275286e+177]\n",
      " [2.48620933e+177 2.11312310e+177 7.45881097e+176 2.11351031e+177]\n",
      " [0.00000000e+000 0.00000000e+000 0.00000000e+000 0.00000000e+000]\n",
      " [3.43245250e+176 1.82770616e+177 1.39742188e+177 2.25894992e+176]\n",
      " [1.50598363e+177 2.74152424e+176 2.26605646e+176 1.33164544e+177]\n",
      " [0.00000000e+000 0.00000000e+000 0.00000000e+000 0.00000000e+000]\n",
      " [4.35876092e+176 8.01890456e+176 4.35876092e+176 1.23219797e+177]\n",
      " [0.00000000e+000 0.00000000e+000 0.00000000e+000 0.00000000e+000]\n",
      " [3.14744395e+176 2.59201266e+176 1.52435030e+177 1.72800844e+177]\n",
      " [2.48602217e+177 2.47115182e+177 2.41675981e+177 2.47128443e+177]\n",
      " [2.09825275e+177 2.38707758e+177 1.95986830e+177 7.16144312e+176]\n",
      " [2.28833095e+177 1.95986830e+177 6.17397674e+176 1.63743511e+177]\n",
      " [0.00000000e+000 0.00000000e+000 0.00000000e+000 0.00000000e+000]\n",
      " [1.41510012e+176 8.32213724e+176 9.43400468e+176 1.71833669e+176]\n",
      " [1.01704335e+177 1.08491048e+177 1.01704335e+177 1.14555826e+177]\n",
      " [9.43400468e+176 8.32213724e+176 1.41510012e+176 1.71833669e+176]\n",
      " [0.00000000e+000 0.00000000e+000 0.00000000e+000 0.00000000e+000]]\n"
     ]
    }
   ],
   "source": [
    "def value_Iteration(env, gamma = 0.5):\n",
    "    numS = env.nS\n",
    "#     print(numS)\n",
    "    value = np.zeros(numS) #value array for each state\n",
    "    e = 1e-20\n",
    "    Qsa = np.zeros((64,4)) #Q(s,a) matrix\n",
    "    \n",
    "    for i in range(1000):\n",
    "        pvalue = np.copy(value)\n",
    "        \n",
    "        for s in range(numS): #for each state\n",
    "            for a in range(env.nA): # for each action for each state\n",
    "                for p, snext, reward, _ in env.P[s][a]: \n",
    "                    Qsa[s][a] = Qsa[s][a] +p*(reward + gamma*pvalue[snext])\n",
    "            value[s] = np.max(Qsa[s]) #value is max of Q(s,a) for each s\n",
    "            \n",
    "        if (np.sum(np.fabs(pvalue - value)) <= e):#convergence\n",
    "            break\n",
    "            \n",
    "    bestAction = np.zeros((64))\n",
    "    for i in range(64):\n",
    "        bestAction[i] = np.argmax(Qsa[i])\n",
    "    return Qsa,value,bestAction\n",
    "\n",
    "env2 = FrozenLakeEnv()\n",
    "env2.reset()\n",
    "Qsa , value,best_action = value_Iteration(env2)\n",
    "print('values :' ,value)\n",
    "print('Qsa:',Qsa)"
   ]
  },
  {
   "cell_type": "markdown",
   "metadata": {},
   "source": [
    "Print what the best action in each state is."
   ]
  },
  {
   "cell_type": "code",
   "execution_count": 21,
   "metadata": {},
   "outputs": [
    {
     "name": "stdout",
     "output_type": "stream",
     "text": [
      "best action in each state: [0. 0. 0. 0. 0. 0. 0. 0. 3. 3. 3. 3. 3. 3. 3. 3. 3. 0. 0. 0. 2. 3. 3. 3.\n",
      " 0. 0. 0. 0. 3. 0. 2. 3. 0. 0. 0. 0. 2. 2. 3. 3. 0. 0. 0. 2. 3. 0. 0. 2.\n",
      " 0. 0. 1. 0. 0. 3. 0. 3. 0. 1. 0. 0. 2. 3. 0. 0.]\n"
     ]
    }
   ],
   "source": [
    "print('best action in each state:',best_action)"
   ]
  },
  {
   "cell_type": "markdown",
   "metadata": {},
   "source": [
    "Run your agent for one episode while acting greedy with respect to the learned policy.\n",
    "\n",
    "Show your result and print the total reward that your agent has received."
   ]
  },
  {
   "cell_type": "code",
   "execution_count": 25,
   "metadata": {},
   "outputs": [
    {
     "name": "stdout",
     "output_type": "stream",
     "text": [
      "total_reward: -99.9999999999986\n",
      "i: 1000\n"
     ]
    }
   ],
   "source": [
    "# print(bestAction)\n",
    "env = FrozenLakeEnv()\n",
    "obs = env.reset()\n",
    "done = False\n",
    "total_reward = 0\n",
    "maxIter = 1000\n",
    "i=0\n",
    "while(done!=True and i<maxIter):\n",
    "    i+=1\n",
    "    action = best_action[obs]\n",
    "    obs,reward,done,_ = env.step(action)\n",
    "    total_reward = total_reward + reward\n",
    "print('total_reward:',total_reward)\n",
    "print('i:',i)\n",
    "\n",
    "\n",
    "#همگرا نمی شود ."
   ]
  },
  {
   "cell_type": "markdown",
   "metadata": {},
   "source": [
    "### Q-Learning"
   ]
  },
  {
   "cell_type": "markdown",
   "metadata": {},
   "source": [
    "Find the best policy using the Q-Learning algorithm.\n",
    "\n",
    "Use an epsilon-greedy policy with decaying epsilon."
   ]
  },
  {
   "cell_type": "code",
   "execution_count": 34,
   "metadata": {},
   "outputs": [],
   "source": [
    "%run FrozenLake.ipynb\n",
    "import matplotlib.pyplot as plt\n",
    "import seaborn as sns\n",
    "def Q_learning():\n",
    "    env = FrozenLakeEnv()\n",
    "    epsilon = 0.02 # epsilon foe e-greedy\n",
    "    gamma = 0.7 #discount factor\n",
    "    stateNum = 64\n",
    "    actionNum = 4\n",
    "    alpha = 0.9 #learning rate\n",
    "    Qsa =  np.zeros((64,4)) #Q(s,a) matrix\n",
    "#     print(Qsa)\n",
    "    total = []\n",
    "    for i in range(1000):\n",
    "        obs = env.reset()\n",
    "        total_reward = 0\n",
    "        done = False\n",
    "        alpha = max(0.001, 0.9*(0.6 ** (i//200)))\n",
    "        while(done != True):\n",
    "#             print('obs:',obs)\n",
    "            if np.random.uniform(0, 1) < epsilon:\n",
    "                action = np.random.choice(4)\n",
    "            else:\n",
    "                action = np.argmax(Qsa[obs])\n",
    "                a = action\n",
    "#             print('action:',a)\n",
    "            nextObs, reward, done, _ = env.step(a)\n",
    "            total_reward = total_reward + reward\n",
    "            \n",
    "            Qsa[obs][a] = Qsa[obs][a] + alpha * (reward + gamma *  np.max(Qsa[nextObs]) - Qsa[obs][a])\n",
    "#             print(Qsa)\n",
    "            obs = nextObs\n",
    "        total.append(total_reward)\n",
    "#     print(Qsa)\n",
    "    \n",
    "    bestAction = np.zeros((64))\n",
    "    for i in range(64):\n",
    "        bestAction[i] = np.argmax(Qsa[i])\n",
    "    return Qsa,bestAction,total\n",
    "  "
   ]
  },
  {
   "cell_type": "markdown",
   "metadata": {},
   "source": [
    "Print what the best action in each state is."
   ]
  },
  {
   "cell_type": "code",
   "execution_count": 35,
   "metadata": {},
   "outputs": [
    {
     "name": "stdout",
     "output_type": "stream",
     "text": [
      "[2. 2. 2. 2. 2. 2. 2. 1. 2. 3. 3. 3. 3. 3. 2. 1. 0. 3. 0. 0. 2. 3. 2. 1.\n",
      " 0. 0. 3. 0. 0. 0. 2. 1. 0. 1. 3. 0. 2. 1. 3. 1. 0. 3. 0. 1. 3. 0. 0. 2.\n",
      " 0. 0. 2. 0. 0. 3. 0. 2. 0. 1. 0. 0. 3. 2. 2. 0.]\n"
     ]
    }
   ],
   "source": [
    "Qsa,bestAction,total = Q_learning() \n",
    "print(bestAction)"
   ]
  },
  {
   "cell_type": "markdown",
   "metadata": {},
   "source": [
    "Run your agent for one episode while acting greedy with respect to the learned policy.\n",
    "\n",
    "Show your result and print the total reward that your agent has received."
   ]
  },
  {
   "cell_type": "code",
   "execution_count": 36,
   "metadata": {},
   "outputs": [
    {
     "name": "stdout",
     "output_type": "stream",
     "text": [
      "[2. 2. 2. 2. 2. 2. 2. 1. 3. 3. 3. 3. 3. 2. 2. 1. 3. 0. 0. 0. 2. 3. 2. 1.\n",
      " 1. 0. 0. 1. 1. 0. 2. 1. 0. 3. 0. 0. 2. 1. 3. 1. 0. 0. 0. 2. 3. 0. 0. 2.\n",
      " 0. 0. 2. 0. 0. 3. 0. 1. 2. 1. 3. 0. 2. 2. 2. 0.]\n",
      "total_reward: 98.30000000000001\n",
      "maximum total reward in 1000 trial: 98.60000000000001\n"
     ]
    },
    {
     "data": {
      "image/png": "[encoded data removed]",
      "text/plain": [
       "<Figure size 432x288 with 1 Axes>"
      ]
     },
     "metadata": {
      "needs_background": "light"
     },
     "output_type": "display_data"
    }
   ],
   "source": [
    "Qsa,bestAction,total = Q_learning()\n",
    "print(bestAction)\n",
    "env = FrozenLakeEnv()\n",
    "obs = env.reset()\n",
    "done = False\n",
    "total_reward = 0\n",
    "while(done!=True):\n",
    "#     print('obs',obs)\n",
    "    action = bestAction[obs]\n",
    "#     print('action',action)\n",
    "    obs,reward,done,_ = env.step(action)\n",
    "    total_reward = total_reward + reward\n",
    "print('total_reward:',total_reward)\n",
    "plt.plot(total)\n",
    "plt.xlabel(\"Trial \")\n",
    "plt.ylabel(\"total reward\")\n",
    "print('maximum total reward in 1000 trial:',max(total))\n",
    "\n",
    "\n",
    "# همگرا می شود"
   ]
  },
  {
   "cell_type": "markdown",
   "metadata": {},
   "source": [
    "### SARSA"
   ]
  },
  {
   "cell_type": "markdown",
   "metadata": {},
   "source": [
    "Find the best policy using the SARSA algorithm.\n",
    "\n",
    "Use an epsilon-greedy policy with decaying epsilon."
   ]
  },
  {
   "cell_type": "code",
   "execution_count": 39,
   "metadata": {},
   "outputs": [],
   "source": [
    "def SARSA():\n",
    "    Qsa = np.zeros((64,4))\n",
    "    epsilon = 0.8 #e-greedy\n",
    "    alpha = 0.7 #learning rate\n",
    "    gamma = 0.8 # discount factor\n",
    "    env = FrozenLakeEnv()\n",
    "    action = 0 3#current action\n",
    "    action2 = 0 #next action\n",
    "    state2 = 0 #next state\n",
    "    state = 0 #current state\n",
    "    total = []\n",
    "    for i in range(10000):\n",
    "        done = False\n",
    "        state = env.reset()\n",
    "        total_reward = 0\n",
    "        epsilon = epsilon *(1/(i+1)) #decaying epsilon\n",
    "        if np.random.uniform(0, 1) < epsilon:\n",
    "            action = env.action_space.sample()\n",
    "        else:\n",
    "            action = np.argmax(Qsa[state])\n",
    "            \n",
    "        while(done != True):\n",
    "            state2,reward,done,_ = env.step(action)\n",
    "            total_reward = total_reward + reward\n",
    "            if np.random.uniform(0, 1) < epsilon:\n",
    "                action2 = env.action_space.sample()\n",
    "            else:\n",
    "                action2 = np.argmax(Qsa[state2])\n",
    "            Qsa[state][action] = Qsa[state][action] + alpha * (reward + gamma * Qsa[state2][action2] - Qsa[state][action])\n",
    "            \n",
    "            state = state2\n",
    "            action = action2\n",
    "        total.append(total_reward)    \n",
    "    bestAction = np.zeros((64))\n",
    "    for i in range(64):\n",
    "        \n",
    "        bestAction[i] = (np.argmax(Qsa[i]))\n",
    "    return Qsa,bestAction,total"
   ]
  },
  {
   "cell_type": "markdown",
   "metadata": {},
   "source": [
    "Print what the best action in each state is."
   ]
  },
  {
   "cell_type": "code",
   "execution_count": 40,
   "metadata": {},
   "outputs": [
    {
     "name": "stdout",
     "output_type": "stream",
     "text": [
      "[2. 2. 2. 2. 2. 2. 2. 1. 2. 3. 3. 3. 3. 3. 3. 1. 0. 0. 0. 0. 2. 3. 2. 2.\n",
      " 0. 0. 0. 1. 0. 0. 2. 2. 0. 0. 3. 0. 2. 1. 3. 2. 0. 3. 0. 2. 3. 0. 0. 2.\n",
      " 0. 0. 0. 3. 0. 0. 0. 2. 0. 1. 0. 0. 2. 0. 1. 0.]\n"
     ]
    }
   ],
   "source": [
    "Qsa,bestAction,total = SARSA()\n",
    "print(bestAction)"
   ]
  },
  {
   "cell_type": "markdown",
   "metadata": {},
   "source": [
    "Run your agent for one episode while acting greedy with respect to the learned policy.\n",
    "\n",
    "Show your result and print the total reward that your agent has received."
   ]
  },
  {
   "cell_type": "code",
   "execution_count": 42,
   "metadata": {},
   "outputs": [
    {
     "name": "stdout",
     "output_type": "stream",
     "text": [
      "total_reward: 86.90000000000003\n",
      "maximum total reward in 1000 trial: 98.5\n"
     ]
    },
    {
     "data": {
      "image/png": "[encoded data removed]",
      "text/plain": [
       "<Figure size 432x288 with 1 Axes>"
      ]
     },
     "metadata": {
      "needs_background": "light"
     },
     "output_type": "display_data"
    }
   ],
   "source": [
    "# Qsa,bestAction,total = SARSA()\n",
    "# print(bestAction)\n",
    "env = FrozenLakeEnv()\n",
    "obs = env.reset()\n",
    "done = False\n",
    "total_reward = 0\n",
    "while(done!=True):\n",
    "#     print('obs',obs)\n",
    "    action = bestAction[obs]\n",
    "#     print('action',action)\n",
    "    obs,reward,done,_ = env.step(action)\n",
    "    total_reward = total_reward + reward\n",
    "print('total_reward:',total_reward)\n",
    "plt.plot(total)\n",
    "plt.xlabel(\"Trial \")\n",
    "plt.ylabel(\"total reward\")\n",
    "print('maximum total reward in 1000 trial:',max(total))"
   ]
  },
  {
   "cell_type": "code",
   "execution_count": null,
   "metadata": {},
   "outputs": [],
   "source": []
  }
 ],
 "metadata": {
  "kernelspec": {
   "display_name": "Python 3",
   "language": "python",
   "name": "python3"
  },
  "language_info": {
   "codemirror_mode": {
    "name": "ipython",
    "version": 3
   },
   "file_extension": ".py",
   "mimetype": "text/x-python",
   "name": "python",
   "nbconvert_exporter": "python",
   "pygments_lexer": "ipython3",
   "version": "3.7.1"
  }
 },
 "nbformat": 4,
 "nbformat_minor": 2
}
